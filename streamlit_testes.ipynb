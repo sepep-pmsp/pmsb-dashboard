{
 "cells": [
  {
   "cell_type": "code",
   "execution_count": 1,
   "id": "d615a43e-f021-4c8c-a8c9-c9c2da374810",
   "metadata": {},
   "outputs": [
    {
     "name": "stderr",
     "output_type": "stream",
     "text": [
      "2025-01-29 16:03:40.258 WARNING streamlit.runtime.scriptrunner_utils.script_run_context: Thread 'MainThread': missing ScriptRunContext! This warning can be ignored when running in bare mode.\n"
     ]
    }
   ],
   "source": [
    "import geopandas as gpd\n",
    "import pandas as pd\n",
    "from utils import gdf_operations, functions"
   ]
  },
  {
   "cell_type": "code",
   "execution_count": 2,
   "id": "3508eb28-ee27-4fd7-aa27-a9d49a06d2d4",
   "metadata": {},
   "outputs": [],
   "source": [
    "distrito =gdf_operations.get_dados('distrito')\n",
    "subbac = gdf_operations.get_dados('subbac')\n",
    "subpref = gdf_operations.get_dados('subpref')\n",
    "fcu = gdf_operations.get_dados('fcu')"
   ]
  },
  {
   "cell_type": "code",
   "execution_count": 3,
   "id": "52064d9c-9f2f-4a42-847f-5cc0027542a3",
   "metadata": {},
   "outputs": [],
   "source": [
    "cd_subbac = gdf_operations.find_subbac_name(subbac, 'cd_')\n",
    "nm_subbac = gdf_operations.find_subbac_name(subbac, 'nm_')\n",
    "\n",
    "unidades_list = [\n",
    "    ('subbac', \"Sub Bacias Hidrográficas\", cd_subbac, nm_subbac),\n",
    "    ('subpref', \"Subprefeituras\", \"cd_subpref\" , 'nm_subpref'),\n",
    "    ('distrito', \"Distritos\", 'cd_distrit', 'nm_distrit'),\n",
    "    ('fcu', \"Favelas e Comunidades Urbanas\", 'cd_fcu', 'nm_fcu')\n",
    "    \n",
    "]\n",
    "unidades_df = pd.DataFrame(unidades_list, columns=['gdf_name', 'name', 'column_cd', 'column_name'])\n"
   ]
  },
  {
   "cell_type": "markdown",
   "id": "c7bb9c88-ebbc-48e6-b724-6a37c4db3936",
   "metadata": {},
   "source": [
    "Vou começar pelo fcu para ver se dá certo."
   ]
  },
  {
   "cell_type": "markdown",
   "id": "318f879a-2e98-44ef-ac7a-118a188033d6",
   "metadata": {},
   "source": [
    "# FCU"
   ]
  },
  {
   "cell_type": "code",
   "execution_count": 4,
   "id": "21e897cb-3fdd-49c5-a958-a5f3c602e978",
   "metadata": {},
   "outputs": [
    {
     "name": "stderr",
     "output_type": "stream",
     "text": [
      "D:\\Documentos_Novo\\ADPPSP\\2024\\Saneamento básico\\PMSB\\hydra\\streamlit-pmsb\\utils\\gdf_operations.py:133: FutureWarning: You are adding a column named 'geometry' to a GeoDataFrame constructed without an active geometry column. Currently, this automatically sets the active geometry column to 'geometry' but in the future that will no longer happen. Instead, either provide geometry to the GeoDataFrame constructor (GeoDataFrame(... geometry=GeoSeries()) or use `set_geometry('geometry')` to explicitly set the active geometry column.\n",
      "  gdf_sorted[column] = gdf[column]\n"
     ]
    }
   ],
   "source": [
    "fcu_sorted = gdf_operations.create_gdf_sorted(\n",
    "    fcu, 'fcu'\n",
    ")"
   ]
  },
  {
   "cell_type": "code",
   "execution_count": 5,
   "id": "f4cd275b-3d89-4212-b2ea-dea889736670",
   "metadata": {},
   "outputs": [
    {
     "name": "stdout",
     "output_type": "stream",
     "text": [
      "gdf_name\n",
      "fcu\n",
      "column_name\n"
     ]
    }
   ],
   "source": [
    "choice_unidade = 'fcu'\n",
    "gdf_unidade = fcu_sorted\n",
    "name_column_unidade = functions.find_gdf_info(unidades_df, choice_unidade, 'gdf_name', 'column_name')"
   ]
  },
  {
   "cell_type": "markdown",
   "id": "5e860ed3-de7d-4577-acea-231750ed5d8d",
   "metadata": {},
   "source": [
    "overlay_gdf = gdf_operations.overlay_intersec(\n",
    "    'distrito', gdf_unidade, 'cd_fcu')"
   ]
  },
  {
   "cell_type": "markdown",
   "id": "729135f0-daa6-4631-a4a3-296e03ed88a8",
   "metadata": {},
   "source": [
    "# Distritos"
   ]
  },
  {
   "cell_type": "markdown",
   "id": "fb899a6d-e3ae-49fe-8dde-82f28ff34e84",
   "metadata": {},
   "source": [
    "Agora vamos tentar com os distritos"
   ]
  },
  {
   "cell_type": "code",
   "execution_count": 6,
   "id": "1a1f97d3",
   "metadata": {},
   "outputs": [
    {
     "name": "stderr",
     "output_type": "stream",
     "text": [
      "D:\\Documentos_Novo\\ADPPSP\\2024\\Saneamento básico\\PMSB\\hydra\\streamlit-pmsb\\utils\\gdf_operations.py:133: FutureWarning: You are adding a column named 'geometry' to a GeoDataFrame constructed without an active geometry column. Currently, this automatically sets the active geometry column to 'geometry' but in the future that will no longer happen. Instead, either provide geometry to the GeoDataFrame constructor (GeoDataFrame(... geometry=GeoSeries()) or use `set_geometry('geometry')` to explicitly set the active geometry column.\n",
      "  gdf_sorted[column] = gdf[column]\n"
     ]
    }
   ],
   "source": [
    "distrito_sorted = gdf_operations.create_gdf_sorted(\n",
    "    distrito, 'distrito'\n",
    ")"
   ]
  },
  {
   "cell_type": "code",
   "execution_count": 7,
   "id": "6aec7de7",
   "metadata": {},
   "outputs": [
    {
     "name": "stdout",
     "output_type": "stream",
     "text": [
      "gdf_name\n",
      "distrito\n",
      "column_name\n"
     ]
    }
   ],
   "source": [
    "choice_unidade = 'distrito'\n",
    "gdf_unidade = distrito_sorted\n",
    "name_column_unidade = functions.find_gdf_info(unidades_df, choice_unidade, 'gdf_name', 'column_name')"
   ]
  },
  {
   "cell_type": "code",
   "execution_count": 8,
   "id": "ba2ccfad",
   "metadata": {},
   "outputs": [
    {
     "name": "stderr",
     "output_type": "stream",
     "text": [
      "D:\\Documentos_Novo\\ADPPSP\\2024\\Saneamento básico\\PMSB\\hydra\\streamlit-pmsb\\utils\\gdf_operations.py:122: FutureWarning: You are adding a column named 'geometry' to a GeoDataFrame constructed without an active geometry column. Currently, this automatically sets the active geometry column to 'geometry' but in the future that will no longer happen. Instead, either provide geometry to the GeoDataFrame constructor (GeoDataFrame(... geometry=GeoSeries()) or use `set_geometry('geometry')` to explicitly set the active geometry column.\n",
      "  gdf_sorted['geometry'] = gdf['geometry']\n"
     ]
    }
   ],
   "source": [
    "overlay_gdf = gdf_operations.overlay_intersec(\n",
    "    'subpref', gdf_unidade, 'cd_distrit'\n",
    ")"
   ]
  },
  {
   "cell_type": "markdown",
   "id": "f8324b6a-3066-4011-9af8-2040a9952fa2",
   "metadata": {},
   "source": [
    "# Loop por intersec"
   ]
  },
  {
   "cell_type": "markdown",
   "id": "96b50ba0-f355-44ab-8e2b-33b90c23eab2",
   "metadata": {},
   "source": [
    "## Vamos Começar com o FCU mesmo"
   ]
  },
  {
   "cell_type": "code",
   "execution_count": 9,
   "id": "71c22398",
   "metadata": {},
   "outputs": [
    {
     "name": "stderr",
     "output_type": "stream",
     "text": [
      "D:\\Documentos_Novo\\ADPPSP\\2024\\Saneamento básico\\PMSB\\hydra\\streamlit-pmsb\\utils\\gdf_operations.py:133: FutureWarning: You are adding a column named 'geometry' to a GeoDataFrame constructed without an active geometry column. Currently, this automatically sets the active geometry column to 'geometry' but in the future that will no longer happen. Instead, either provide geometry to the GeoDataFrame constructor (GeoDataFrame(... geometry=GeoSeries()) or use `set_geometry('geometry')` to explicitly set the active geometry column.\n",
      "  gdf_sorted[column] = gdf[column]\n"
     ]
    }
   ],
   "source": [
    "fcu_sorted = gdf_operations.create_gdf_sorted(\n",
    "    fcu, 'fcu'\n",
    ")"
   ]
  },
  {
   "cell_type": "code",
   "execution_count": 10,
   "id": "2c51faa5",
   "metadata": {},
   "outputs": [
    {
     "name": "stdout",
     "output_type": "stream",
     "text": [
      "gdf_name\n",
      "fcu\n",
      "column_name\n"
     ]
    }
   ],
   "source": [
    "choice_unidade = 'fcu'\n",
    "gdf_unidade = fcu_sorted\n",
    "name_column_unidade = functions.find_gdf_info(unidades_df, choice_unidade, 'gdf_name', 'column_name')"
   ]
  },
  {
   "cell_type": "code",
   "execution_count": 11,
   "id": "a81a31c2-e263-4407-8961-8053aa1d69a5",
   "metadata": {},
   "outputs": [
    {
     "name": "stdout",
     "output_type": "stream",
     "text": [
      "  gdf_name                           name column_cd column_name\n",
      "3      fcu  Favelas e Comunidades Urbanas    cd_fcu      nm_fcu\n"
     ]
    }
   ],
   "source": [
    "print(unidades_df[unidades_df['gdf_name']=='fcu'])"
   ]
  },
  {
   "cell_type": "code",
   "execution_count": 12,
   "id": "aa94b55f-2ded-4a03-847b-58bd8a319a1c",
   "metadata": {},
   "outputs": [
    {
     "name": "stderr",
     "output_type": "stream",
     "text": [
      "D:\\Documentos_Novo\\ADPPSP\\2024\\Saneamento básico\\PMSB\\hydra\\streamlit-pmsb\\utils\\gdf_operations.py:122: FutureWarning: You are adding a column named 'geometry' to a GeoDataFrame constructed without an active geometry column. Currently, this automatically sets the active geometry column to 'geometry' but in the future that will no longer happen. Instead, either provide geometry to the GeoDataFrame constructor (GeoDataFrame(... geometry=GeoSeries()) or use `set_geometry('geometry')` to explicitly set the active geometry column.\n",
      "  gdf_sorted['geometry'] = gdf['geometry']\n"
     ]
    },
    {
     "name": "stdout",
     "output_type": "stream",
     "text": [
      "Index(['cd_fcu', 'nm_fcu', 'pop_fcu', 'dom_fcu', 'con_fcu', 'cd_identif',\n",
      "       'nm_bacia_h', 'geometry', 'area'],\n",
      "      dtype='object')\n"
     ]
    },
    {
     "name": "stderr",
     "output_type": "stream",
     "text": [
      "D:\\Documentos_Novo\\ADPPSP\\2024\\Saneamento básico\\PMSB\\hydra\\streamlit-pmsb\\utils\\gdf_operations.py:122: FutureWarning: You are adding a column named 'geometry' to a GeoDataFrame constructed without an active geometry column. Currently, this automatically sets the active geometry column to 'geometry' but in the future that will no longer happen. Instead, either provide geometry to the GeoDataFrame constructor (GeoDataFrame(... geometry=GeoSeries()) or use `set_geometry('geometry')` to explicitly set the active geometry column.\n",
      "  gdf_sorted['geometry'] = gdf['geometry']\n"
     ]
    },
    {
     "name": "stdout",
     "output_type": "stream",
     "text": [
      "Index(['cd_fcu', 'nm_fcu', 'pop_fcu', 'dom_fcu', 'con_fcu', 'cd_identif',\n",
      "       'cd_subpref', 'nm_subpref', 'geometry', 'area'],\n",
      "      dtype='object')\n"
     ]
    },
    {
     "name": "stderr",
     "output_type": "stream",
     "text": [
      "D:\\Documentos_Novo\\ADPPSP\\2024\\Saneamento básico\\PMSB\\hydra\\streamlit-pmsb\\utils\\gdf_operations.py:122: FutureWarning: You are adding a column named 'geometry' to a GeoDataFrame constructed without an active geometry column. Currently, this automatically sets the active geometry column to 'geometry' but in the future that will no longer happen. Instead, either provide geometry to the GeoDataFrame constructor (GeoDataFrame(... geometry=GeoSeries()) or use `set_geometry('geometry')` to explicitly set the active geometry column.\n",
      "  gdf_sorted['geometry'] = gdf['geometry']\n"
     ]
    },
    {
     "name": "stdout",
     "output_type": "stream",
     "text": [
      "Index(['cd_fcu', 'nm_fcu', 'pop_fcu', 'dom_fcu', 'con_fcu', 'cd_identif',\n",
      "       'cd_subpref', 'cd_distrit', 'nm_distrit', 'geometry', 'area'],\n",
      "      dtype='object')\n"
     ]
    }
   ],
   "source": [
    "index_unidade = (\n",
    "        unidades_df[\n",
    "            unidades_df['gdf_name'] == choice_unidade\n",
    "        ].index[0]\n",
    "    )\n",
    "\n",
    "name_gdf_unidade = choice_unidade\n",
    "batatinha = pd.DataFrame()\n",
    "\n",
    "cd_unidade = gdf_operations.find_gdf_name(gdf_unidade, choice_unidade, 'cd_')\n",
    "\n",
    "overlay_gdf = gpd.GeoDataFrame()\n",
    "\n",
    "\n",
    "for i, row in unidades_df.iterrows():\n",
    "        if i< index_unidade:\n",
    "            name_gdf_intersec = row.loc['gdf_name']\n",
    "            cd_intersec = row.loc['column_cd']\n",
    "            overlay_gdf = gdf_operations.overlay_intersec(\n",
    "                name_gdf_intersec= name_gdf_intersec, \n",
    "                gdf_unidade = gdf_unidade, \n",
    "                name_gdf_unidade=name_gdf_unidade\n",
    "            )\n",
    "            print(overlay_gdf.columns)\n",
    "            \n",
    "            gdf_unidade[cd_unidade] = gdf_unidade[cd_unidade].astype(str)\n",
    "            overlay_gdf[cd_intersec] =(\n",
    "                overlay_gdf[cd_intersec]\n",
    "                .astype(int)\n",
    "                .astype(str)\n",
    "            )\n",
    "            \n",
    "            overlay_gdf[cd_unidade] = (\n",
    "                overlay_gdf[cd_unidade]\n",
    "                .astype(str)\n",
    "            )\n",
    "\n",
    "\n",
    "            gdf_unidade = pd.merge(gdf_unidade, overlay_gdf[[cd_unidade, cd_intersec]], on=cd_unidade, how='left')\n",
    "\n",
    "\n",
    "gdf_operations.save_intersec(gdf_unidade, choice_unidade)"
   ]
  },
  {
   "cell_type": "code",
   "execution_count": 13,
   "id": "e57d6764-7e8d-4173-9069-3deb366e4ba6",
   "metadata": {},
   "outputs": [
    {
     "data": {
      "text/html": [
       "<div>\n",
       "<style scoped>\n",
       "    .dataframe tbody tr th:only-of-type {\n",
       "        vertical-align: middle;\n",
       "    }\n",
       "\n",
       "    .dataframe tbody tr th {\n",
       "        vertical-align: top;\n",
       "    }\n",
       "\n",
       "    .dataframe thead th {\n",
       "        text-align: right;\n",
       "    }\n",
       "</style>\n",
       "<table border=\"1\" class=\"dataframe\">\n",
       "  <thead>\n",
       "    <tr style=\"text-align: right;\">\n",
       "      <th></th>\n",
       "      <th>cd_fcu</th>\n",
       "      <th>nm_fcu</th>\n",
       "      <th>pop_fcu</th>\n",
       "      <th>dom_fcu</th>\n",
       "      <th>con_fcu</th>\n",
       "      <th>geometry</th>\n",
       "      <th>cd_identif</th>\n",
       "      <th>cd_subpref</th>\n",
       "      <th>cd_distrit</th>\n",
       "    </tr>\n",
       "  </thead>\n",
       "  <tbody>\n",
       "    <tr>\n",
       "      <th>275</th>\n",
       "      <td>35503080936</td>\n",
       "      <td>Santa Etelvina III</td>\n",
       "      <td>451</td>\n",
       "      <td>137</td>\n",
       "      <td>63140</td>\n",
       "      <td>POLYGON ((356871.615 7390694.732, 356858.753 7...</td>\n",
       "      <td>706</td>\n",
       "      <td>31</td>\n",
       "      <td>25</td>\n",
       "    </tr>\n",
       "    <tr>\n",
       "      <th>366</th>\n",
       "      <td>35503082113</td>\n",
       "      <td>São João da Boa Vista II</td>\n",
       "      <td>253</td>\n",
       "      <td>109</td>\n",
       "      <td>35420</td>\n",
       "      <td>POLYGON ((331941.1 7380588.291, 331946.484 738...</td>\n",
       "      <td>582</td>\n",
       "      <td>16</td>\n",
       "      <td>22</td>\n",
       "    </tr>\n",
       "    <tr>\n",
       "      <th>2</th>\n",
       "      <td>35503081646</td>\n",
       "      <td>Pavanas</td>\n",
       "      <td>161</td>\n",
       "      <td>58</td>\n",
       "      <td>22540</td>\n",
       "      <td>POLYGON ((331961.694 7381437.08, 331927.976 73...</td>\n",
       "      <td>582</td>\n",
       "      <td>16</td>\n",
       "      <td>22</td>\n",
       "    </tr>\n",
       "  </tbody>\n",
       "</table>\n",
       "</div>"
      ],
      "text/plain": [
       "          cd_fcu                    nm_fcu  pop_fcu  dom_fcu  con_fcu  \\\n",
       "275  35503080936        Santa Etelvina III      451      137    63140   \n",
       "366  35503082113  São João da Boa Vista II      253      109    35420   \n",
       "2    35503081646                   Pavanas      161       58    22540   \n",
       "\n",
       "                                              geometry cd_identif cd_subpref  \\\n",
       "275  POLYGON ((356871.615 7390694.732, 356858.753 7...        706         31   \n",
       "366  POLYGON ((331941.1 7380588.291, 331946.484 738...        582         16   \n",
       "2    POLYGON ((331961.694 7381437.08, 331927.976 73...        582         16   \n",
       "\n",
       "    cd_distrit  \n",
       "275         25  \n",
       "366         22  \n",
       "2           22  "
      ]
     },
     "execution_count": 13,
     "metadata": {},
     "output_type": "execute_result"
    }
   ],
   "source": [
    "gdf_unidade.sample(3)"
   ]
  },
  {
   "cell_type": "markdown",
   "id": "4038ca2f-f7ab-4546-8ab1-3686afe3c617",
   "metadata": {},
   "source": [
    "## Intersec distrito"
   ]
  },
  {
   "cell_type": "code",
   "execution_count": 14,
   "id": "c2d83aa7-d68c-4022-94d9-443e757bd367",
   "metadata": {},
   "outputs": [
    {
     "name": "stdout",
     "output_type": "stream",
     "text": [
      "gdf_name\n",
      "distrito\n",
      "column_name\n"
     ]
    },
    {
     "name": "stderr",
     "output_type": "stream",
     "text": [
      "D:\\Documentos_Novo\\ADPPSP\\2024\\Saneamento básico\\PMSB\\hydra\\streamlit-pmsb\\utils\\gdf_operations.py:133: FutureWarning: You are adding a column named 'geometry' to a GeoDataFrame constructed without an active geometry column. Currently, this automatically sets the active geometry column to 'geometry' but in the future that will no longer happen. Instead, either provide geometry to the GeoDataFrame constructor (GeoDataFrame(... geometry=GeoSeries()) or use `set_geometry('geometry')` to explicitly set the active geometry column.\n",
      "  gdf_sorted[column] = gdf[column]\n"
     ]
    }
   ],
   "source": [
    "distrito_sorted = gdf_operations.create_gdf_sorted(\n",
    "    distrito, 'distrito'\n",
    ")\n",
    "choice_unidade = 'distrito'\n",
    "gdf_unidade = distrito_sorted\n",
    "name_column_unidade = functions.find_gdf_info(\n",
    "    unidades_df, \n",
    "    choice_unidade, \n",
    "    'gdf_name', \n",
    "    'column_name'\n",
    ")"
   ]
  },
  {
   "cell_type": "code",
   "execution_count": 15,
   "id": "7ae67fce",
   "metadata": {},
   "outputs": [
    {
     "name": "stderr",
     "output_type": "stream",
     "text": [
      "D:\\Documentos_Novo\\ADPPSP\\2024\\Saneamento básico\\PMSB\\hydra\\streamlit-pmsb\\utils\\gdf_operations.py:122: FutureWarning: You are adding a column named 'geometry' to a GeoDataFrame constructed without an active geometry column. Currently, this automatically sets the active geometry column to 'geometry' but in the future that will no longer happen. Instead, either provide geometry to the GeoDataFrame constructor (GeoDataFrame(... geometry=GeoSeries()) or use `set_geometry('geometry')` to explicitly set the active geometry column.\n",
      "  gdf_sorted['geometry'] = gdf['geometry']\n"
     ]
    },
    {
     "name": "stdout",
     "output_type": "stream",
     "text": [
      "Index(['cd_distrit', 'nm_distrit', 'pop_total', 'dom_total', 'consumo_di',\n",
      "       'cd_identif', 'nm_bacia_h', 'geometry', 'area'],\n",
      "      dtype='object')\n"
     ]
    },
    {
     "name": "stderr",
     "output_type": "stream",
     "text": [
      "D:\\Documentos_Novo\\ADPPSP\\2024\\Saneamento básico\\PMSB\\hydra\\streamlit-pmsb\\utils\\gdf_operations.py:122: FutureWarning: You are adding a column named 'geometry' to a GeoDataFrame constructed without an active geometry column. Currently, this automatically sets the active geometry column to 'geometry' but in the future that will no longer happen. Instead, either provide geometry to the GeoDataFrame constructor (GeoDataFrame(... geometry=GeoSeries()) or use `set_geometry('geometry')` to explicitly set the active geometry column.\n",
      "  gdf_sorted['geometry'] = gdf['geometry']\n"
     ]
    },
    {
     "name": "stdout",
     "output_type": "stream",
     "text": [
      "Index(['cd_distrit', 'nm_distrit', 'pop_total', 'dom_total', 'consumo_di',\n",
      "       'cd_identif', 'cd_subpref', 'nm_subpref', 'geometry', 'area'],\n",
      "      dtype='object')\n"
     ]
    }
   ],
   "source": [
    "index_unidade = (\n",
    "        unidades_df[\n",
    "            unidades_df['gdf_name'] == choice_unidade\n",
    "        ].index[0]\n",
    "    )\n",
    "\n",
    "name_gdf_unidade = choice_unidade\n",
    "batatinha = pd.DataFrame()\n",
    "\n",
    "cd_unidade = gdf_operations.find_gdf_name(gdf_unidade, choice_unidade, 'cd_')\n",
    "\n",
    "overlay_gdf = gpd.GeoDataFrame()\n",
    "\n",
    "\n",
    "for i, row in unidades_df.iterrows():\n",
    "        if i< index_unidade:\n",
    "            name_gdf_intersec = row.loc['gdf_name']\n",
    "            cd_intersec = row.loc['column_cd']\n",
    "            overlay_gdf = gdf_operations.overlay_intersec(\n",
    "                name_gdf_intersec= name_gdf_intersec, \n",
    "                gdf_unidade = gdf_unidade, \n",
    "                name_gdf_unidade=name_gdf_unidade\n",
    "            )\n",
    "            print(overlay_gdf.columns)\n",
    "            \n",
    "            gdf_unidade[cd_unidade] = gdf_unidade[cd_unidade].astype(str)\n",
    "            overlay_gdf[cd_intersec] = overlay_gdf[cd_intersec].astype(int).astype(str)\n",
    "            overlay_gdf[cd_unidade] = overlay_gdf[cd_unidade].astype(str)\n",
    "\n",
    "\n",
    "            gdf_unidade = pd.merge(gdf_unidade, overlay_gdf[[cd_unidade, cd_intersec]], on=cd_unidade, how='left')\n",
    "\n",
    "\n",
    "gdf_operations.save_intersec(gdf_unidade, choice_unidade)\n"
   ]
  },
  {
   "cell_type": "code",
   "execution_count": 16,
   "id": "28808fe7",
   "metadata": {},
   "outputs": [
    {
     "data": {
      "text/html": [
       "<div>\n",
       "<style scoped>\n",
       "    .dataframe tbody tr th:only-of-type {\n",
       "        vertical-align: middle;\n",
       "    }\n",
       "\n",
       "    .dataframe tbody tr th {\n",
       "        vertical-align: top;\n",
       "    }\n",
       "\n",
       "    .dataframe thead th {\n",
       "        text-align: right;\n",
       "    }\n",
       "</style>\n",
       "<table border=\"1\" class=\"dataframe\">\n",
       "  <thead>\n",
       "    <tr style=\"text-align: right;\">\n",
       "      <th></th>\n",
       "      <th>cd_distrit</th>\n",
       "      <th>nm_distrit</th>\n",
       "      <th>pop_total</th>\n",
       "      <th>dom_total</th>\n",
       "      <th>consumo_di</th>\n",
       "      <th>geometry</th>\n",
       "      <th>cd_identif</th>\n",
       "      <th>cd_subpref</th>\n",
       "    </tr>\n",
       "  </thead>\n",
       "  <tbody>\n",
       "    <tr>\n",
       "      <th>28</th>\n",
       "      <td>31</td>\n",
       "      <td>GUAIANASES</td>\n",
       "      <td>109966</td>\n",
       "      <td>44162</td>\n",
       "      <td>15395240</td>\n",
       "      <td>POLYGON ((355108.237 7393291.184, 355107.277 7...</td>\n",
       "      <td>706</td>\n",
       "      <td>28</td>\n",
       "    </tr>\n",
       "    <tr>\n",
       "      <th>8</th>\n",
       "      <td>46</td>\n",
       "      <td>JARDIM SAO LUIS</td>\n",
       "      <td>260203</td>\n",
       "      <td>106144</td>\n",
       "      <td>36428420</td>\n",
       "      <td>POLYGON ((321628.005 7377780.623, 321626.439 7...</td>\n",
       "      <td>570</td>\n",
       "      <td>18</td>\n",
       "    </tr>\n",
       "    <tr>\n",
       "      <th>63</th>\n",
       "      <td>1</td>\n",
       "      <td>AGUA RASA</td>\n",
       "      <td>86130</td>\n",
       "      <td>41340</td>\n",
       "      <td>12058200</td>\n",
       "      <td>POLYGON ((341093.38 7391912.491, 341093.329 73...</td>\n",
       "      <td>641</td>\n",
       "      <td>25</td>\n",
       "    </tr>\n",
       "  </tbody>\n",
       "</table>\n",
       "</div>"
      ],
      "text/plain": [
       "   cd_distrit       nm_distrit  pop_total  dom_total  consumo_di  \\\n",
       "28         31       GUAIANASES     109966      44162    15395240   \n",
       "8          46  JARDIM SAO LUIS     260203     106144    36428420   \n",
       "63          1        AGUA RASA      86130      41340    12058200   \n",
       "\n",
       "                                             geometry cd_identif cd_subpref  \n",
       "28  POLYGON ((355108.237 7393291.184, 355107.277 7...        706         28  \n",
       "8   POLYGON ((321628.005 7377780.623, 321626.439 7...        570         18  \n",
       "63  POLYGON ((341093.38 7391912.491, 341093.329 73...        641         25  "
      ]
     },
     "execution_count": 16,
     "metadata": {},
     "output_type": "execute_result"
    }
   ],
   "source": [
    "gdf_unidade.sample(3)"
   ]
  },
  {
   "cell_type": "markdown",
   "id": "06dddcc8-f37c-4eb5-b820-2d4e41a66542",
   "metadata": {},
   "source": [
    "## Testar DE NOVO O LOOP"
   ]
  },
  {
   "cell_type": "code",
   "execution_count": 17,
   "id": "ba467840-baa6-44c7-b509-ed4181ae2852",
   "metadata": {},
   "outputs": [
    {
     "name": "stderr",
     "output_type": "stream",
     "text": [
      "D:\\Documentos_Novo\\ADPPSP\\2024\\Saneamento básico\\PMSB\\hydra\\streamlit-pmsb\\utils\\gdf_operations.py:133: FutureWarning: You are adding a column named 'geometry' to a GeoDataFrame constructed without an active geometry column. Currently, this automatically sets the active geometry column to 'geometry' but in the future that will no longer happen. Instead, either provide geometry to the GeoDataFrame constructor (GeoDataFrame(... geometry=GeoSeries()) or use `set_geometry('geometry')` to explicitly set the active geometry column.\n",
      "  gdf_sorted[column] = gdf[column]\n",
      "D:\\Documentos_Novo\\ADPPSP\\2024\\Saneamento básico\\PMSB\\hydra\\streamlit-pmsb\\utils\\gdf_operations.py:122: FutureWarning: You are adding a column named 'geometry' to a GeoDataFrame constructed without an active geometry column. Currently, this automatically sets the active geometry column to 'geometry' but in the future that will no longer happen. Instead, either provide geometry to the GeoDataFrame constructor (GeoDataFrame(... geometry=GeoSeries()) or use `set_geometry('geometry')` to explicitly set the active geometry column.\n",
      "  gdf_sorted['geometry'] = gdf['geometry']\n",
      "D:\\Documentos_Novo\\ADPPSP\\2024\\Saneamento básico\\PMSB\\hydra\\streamlit-pmsb\\utils\\gdf_operations.py:122: FutureWarning: You are adding a column named 'geometry' to a GeoDataFrame constructed without an active geometry column. Currently, this automatically sets the active geometry column to 'geometry' but in the future that will no longer happen. Instead, either provide geometry to the GeoDataFrame constructor (GeoDataFrame(... geometry=GeoSeries()) or use `set_geometry('geometry')` to explicitly set the active geometry column.\n",
      "  gdf_sorted['geometry'] = gdf['geometry']\n",
      "D:\\Documentos_Novo\\ADPPSP\\2024\\Saneamento básico\\PMSB\\hydra\\streamlit-pmsb\\utils\\gdf_operations.py:122: FutureWarning: You are adding a column named 'geometry' to a GeoDataFrame constructed without an active geometry column. Currently, this automatically sets the active geometry column to 'geometry' but in the future that will no longer happen. Instead, either provide geometry to the GeoDataFrame constructor (GeoDataFrame(... geometry=GeoSeries()) or use `set_geometry('geometry')` to explicitly set the active geometry column.\n",
      "  gdf_sorted['geometry'] = gdf['geometry']\n"
     ]
    },
    {
     "data": {
      "text/html": [
       "<div>\n",
       "<style scoped>\n",
       "    .dataframe tbody tr th:only-of-type {\n",
       "        vertical-align: middle;\n",
       "    }\n",
       "\n",
       "    .dataframe tbody tr th {\n",
       "        vertical-align: top;\n",
       "    }\n",
       "\n",
       "    .dataframe thead th {\n",
       "        text-align: right;\n",
       "    }\n",
       "</style>\n",
       "<table border=\"1\" class=\"dataframe\">\n",
       "  <thead>\n",
       "    <tr style=\"text-align: right;\">\n",
       "      <th></th>\n",
       "      <th>cd_fcu</th>\n",
       "      <th>nm_fcu</th>\n",
       "      <th>pop_fcu</th>\n",
       "      <th>dom_fcu</th>\n",
       "      <th>con_fcu</th>\n",
       "      <th>geometry</th>\n",
       "      <th>cd_identif</th>\n",
       "      <th>cd_subpref</th>\n",
       "      <th>cd_distrit</th>\n",
       "    </tr>\n",
       "  </thead>\n",
       "  <tbody>\n",
       "    <tr>\n",
       "      <th>494</th>\n",
       "      <td>35503082185</td>\n",
       "      <td>Alba</td>\n",
       "      <td>1213</td>\n",
       "      <td>466</td>\n",
       "      <td>169820</td>\n",
       "      <td>POLYGON ((330839.545 7384299.194, 330865.703 7...</td>\n",
       "      <td>585</td>\n",
       "      <td>15</td>\n",
       "      <td>38</td>\n",
       "    </tr>\n",
       "    <tr>\n",
       "      <th>638</th>\n",
       "      <td>35503081276</td>\n",
       "      <td>Parque Cavalo Branco</td>\n",
       "      <td>3922</td>\n",
       "      <td>1448</td>\n",
       "      <td>549080</td>\n",
       "      <td>POLYGON ((318882.503 7373159.938, 318875.944 7...</td>\n",
       "      <td>544</td>\n",
       "      <td>18</td>\n",
       "      <td>43</td>\n",
       "    </tr>\n",
       "    <tr>\n",
       "      <th>969</th>\n",
       "      <td>35503080520</td>\n",
       "      <td>Jardim Sônia Ingá</td>\n",
       "      <td>1134</td>\n",
       "      <td>457</td>\n",
       "      <td>158760</td>\n",
       "      <td>POLYGON ((319735.314 7380410.926, 319727.993 7...</td>\n",
       "      <td>581</td>\n",
       "      <td>17</td>\n",
       "      <td>19</td>\n",
       "    </tr>\n",
       "  </tbody>\n",
       "</table>\n",
       "</div>"
      ],
      "text/plain": [
       "          cd_fcu                nm_fcu  pop_fcu  dom_fcu  con_fcu  \\\n",
       "494  35503082185                  Alba     1213      466   169820   \n",
       "638  35503081276  Parque Cavalo Branco     3922     1448   549080   \n",
       "969  35503080520     Jardim Sônia Ingá     1134      457   158760   \n",
       "\n",
       "                                              geometry cd_identif cd_subpref  \\\n",
       "494  POLYGON ((330839.545 7384299.194, 330865.703 7...        585         15   \n",
       "638  POLYGON ((318882.503 7373159.938, 318875.944 7...        544         18   \n",
       "969  POLYGON ((319735.314 7380410.926, 319727.993 7...        581         17   \n",
       "\n",
       "    cd_distrit  \n",
       "494         38  \n",
       "638         43  \n",
       "969         19  "
      ]
     },
     "execution_count": 17,
     "metadata": {},
     "output_type": "execute_result"
    }
   ],
   "source": [
    "intersec_fcu = gdf_operations.intersec_unidades(unidades_df, fcu, 'fcu')\n",
    "intersec_fcu.sample(3)"
   ]
  },
  {
   "cell_type": "code",
   "execution_count": 18,
   "id": "983b31d5-f1ad-4262-ab18-e97303dc7219",
   "metadata": {},
   "outputs": [
    {
     "name": "stderr",
     "output_type": "stream",
     "text": [
      "D:\\Documentos_Novo\\ADPPSP\\2024\\Saneamento básico\\PMSB\\hydra\\streamlit-pmsb\\utils\\gdf_operations.py:133: FutureWarning: You are adding a column named 'geometry' to a GeoDataFrame constructed without an active geometry column. Currently, this automatically sets the active geometry column to 'geometry' but in the future that will no longer happen. Instead, either provide geometry to the GeoDataFrame constructor (GeoDataFrame(... geometry=GeoSeries()) or use `set_geometry('geometry')` to explicitly set the active geometry column.\n",
      "  gdf_sorted[column] = gdf[column]\n",
      "D:\\Documentos_Novo\\ADPPSP\\2024\\Saneamento básico\\PMSB\\hydra\\streamlit-pmsb\\utils\\gdf_operations.py:122: FutureWarning: You are adding a column named 'geometry' to a GeoDataFrame constructed without an active geometry column. Currently, this automatically sets the active geometry column to 'geometry' but in the future that will no longer happen. Instead, either provide geometry to the GeoDataFrame constructor (GeoDataFrame(... geometry=GeoSeries()) or use `set_geometry('geometry')` to explicitly set the active geometry column.\n",
      "  gdf_sorted['geometry'] = gdf['geometry']\n",
      "D:\\Documentos_Novo\\ADPPSP\\2024\\Saneamento básico\\PMSB\\hydra\\streamlit-pmsb\\utils\\gdf_operations.py:122: FutureWarning: You are adding a column named 'geometry' to a GeoDataFrame constructed without an active geometry column. Currently, this automatically sets the active geometry column to 'geometry' but in the future that will no longer happen. Instead, either provide geometry to the GeoDataFrame constructor (GeoDataFrame(... geometry=GeoSeries()) or use `set_geometry('geometry')` to explicitly set the active geometry column.\n",
      "  gdf_sorted['geometry'] = gdf['geometry']\n"
     ]
    },
    {
     "data": {
      "text/html": [
       "<div>\n",
       "<style scoped>\n",
       "    .dataframe tbody tr th:only-of-type {\n",
       "        vertical-align: middle;\n",
       "    }\n",
       "\n",
       "    .dataframe tbody tr th {\n",
       "        vertical-align: top;\n",
       "    }\n",
       "\n",
       "    .dataframe thead th {\n",
       "        text-align: right;\n",
       "    }\n",
       "</style>\n",
       "<table border=\"1\" class=\"dataframe\">\n",
       "  <thead>\n",
       "    <tr style=\"text-align: right;\">\n",
       "      <th></th>\n",
       "      <th>cd_distrit</th>\n",
       "      <th>nm_distrit</th>\n",
       "      <th>pop_total</th>\n",
       "      <th>dom_total</th>\n",
       "      <th>consumo_di</th>\n",
       "      <th>geometry</th>\n",
       "      <th>cd_identif</th>\n",
       "      <th>cd_subpref</th>\n",
       "    </tr>\n",
       "  </thead>\n",
       "  <tbody>\n",
       "    <tr>\n",
       "      <th>12</th>\n",
       "      <td>49</td>\n",
       "      <td>LIBERDADE</td>\n",
       "      <td>65908</td>\n",
       "      <td>37809</td>\n",
       "      <td>9227120</td>\n",
       "      <td>POLYGON ((332502.702 7392061.729, 332502.811 7...</td>\n",
       "      <td>623</td>\n",
       "      <td>9</td>\n",
       "    </tr>\n",
       "    <tr>\n",
       "      <th>22</th>\n",
       "      <td>76</td>\n",
       "      <td>SAPOPEMBA</td>\n",
       "      <td>266411</td>\n",
       "      <td>105476</td>\n",
       "      <td>37297540</td>\n",
       "      <td>POLYGON ((344303.158 7389068.033, 344303.09 73...</td>\n",
       "      <td>645</td>\n",
       "      <td>32</td>\n",
       "    </tr>\n",
       "    <tr>\n",
       "      <th>66</th>\n",
       "      <td>4</td>\n",
       "      <td>ARICANDUVA</td>\n",
       "      <td>90894</td>\n",
       "      <td>37830</td>\n",
       "      <td>12725160</td>\n",
       "      <td>POLYGON ((344068.781 7390960.855, 344068.149 7...</td>\n",
       "      <td>645</td>\n",
       "      <td>26</td>\n",
       "    </tr>\n",
       "  </tbody>\n",
       "</table>\n",
       "</div>"
      ],
      "text/plain": [
       "   cd_distrit  nm_distrit  pop_total  dom_total  consumo_di  \\\n",
       "12         49   LIBERDADE      65908      37809     9227120   \n",
       "22         76   SAPOPEMBA     266411     105476    37297540   \n",
       "66          4  ARICANDUVA      90894      37830    12725160   \n",
       "\n",
       "                                             geometry cd_identif cd_subpref  \n",
       "12  POLYGON ((332502.702 7392061.729, 332502.811 7...        623          9  \n",
       "22  POLYGON ((344303.158 7389068.033, 344303.09 73...        645         32  \n",
       "66  POLYGON ((344068.781 7390960.855, 344068.149 7...        645         26  "
      ]
     },
     "execution_count": 18,
     "metadata": {},
     "output_type": "execute_result"
    }
   ],
   "source": [
    "intersec_distrito = gdf_operations.intersec_unidades(unidades_df, distrito, 'distrito')\n",
    "intersec_distrito.sample(3)"
   ]
  },
  {
   "cell_type": "code",
   "execution_count": 19,
   "id": "d36cf7ed-e316-44db-8a57-afae76706950",
   "metadata": {},
   "outputs": [
    {
     "name": "stderr",
     "output_type": "stream",
     "text": [
      "D:\\Documentos_Novo\\ADPPSP\\2024\\Saneamento básico\\PMSB\\hydra\\streamlit-pmsb\\utils\\gdf_operations.py:133: FutureWarning: You are adding a column named 'geometry' to a GeoDataFrame constructed without an active geometry column. Currently, this automatically sets the active geometry column to 'geometry' but in the future that will no longer happen. Instead, either provide geometry to the GeoDataFrame constructor (GeoDataFrame(... geometry=GeoSeries()) or use `set_geometry('geometry')` to explicitly set the active geometry column.\n",
      "  gdf_sorted[column] = gdf[column]\n",
      "D:\\Documentos_Novo\\ADPPSP\\2024\\Saneamento básico\\PMSB\\hydra\\streamlit-pmsb\\utils\\gdf_operations.py:122: FutureWarning: You are adding a column named 'geometry' to a GeoDataFrame constructed without an active geometry column. Currently, this automatically sets the active geometry column to 'geometry' but in the future that will no longer happen. Instead, either provide geometry to the GeoDataFrame constructor (GeoDataFrame(... geometry=GeoSeries()) or use `set_geometry('geometry')` to explicitly set the active geometry column.\n",
      "  gdf_sorted['geometry'] = gdf['geometry']\n"
     ]
    },
    {
     "data": {
      "text/html": [
       "<div>\n",
       "<style scoped>\n",
       "    .dataframe tbody tr th:only-of-type {\n",
       "        vertical-align: middle;\n",
       "    }\n",
       "\n",
       "    .dataframe tbody tr th {\n",
       "        vertical-align: top;\n",
       "    }\n",
       "\n",
       "    .dataframe thead th {\n",
       "        text-align: right;\n",
       "    }\n",
       "</style>\n",
       "<table border=\"1\" class=\"dataframe\">\n",
       "  <thead>\n",
       "    <tr style=\"text-align: right;\">\n",
       "      <th></th>\n",
       "      <th>cd_subpref</th>\n",
       "      <th>nm_subpref</th>\n",
       "      <th>pop_total</th>\n",
       "      <th>dom_total</th>\n",
       "      <th>consumo_di</th>\n",
       "      <th>geometry</th>\n",
       "      <th>cd_identif</th>\n",
       "    </tr>\n",
       "  </thead>\n",
       "  <tbody>\n",
       "    <tr>\n",
       "      <th>3</th>\n",
       "      <td>07</td>\n",
       "      <td>VILA MARIA-VILA GUILHERME</td>\n",
       "      <td>276057</td>\n",
       "      <td>120169</td>\n",
       "      <td>38647980</td>\n",
       "      <td>POLYGON ((336675.044 7401136.914, 336698.453 7...</td>\n",
       "      <td>693</td>\n",
       "    </tr>\n",
       "    <tr>\n",
       "      <th>23</th>\n",
       "      <td>13</td>\n",
       "      <td>IPIRANGA</td>\n",
       "      <td>480163</td>\n",
       "      <td>213546</td>\n",
       "      <td>67222820</td>\n",
       "      <td>POLYGON ((335287.875 7391129.763, 335279.12 73...</td>\n",
       "      <td>615</td>\n",
       "    </tr>\n",
       "    <tr>\n",
       "      <th>9</th>\n",
       "      <td>09</td>\n",
       "      <td>SE</td>\n",
       "      <td>424112</td>\n",
       "      <td>258563</td>\n",
       "      <td>59375680</td>\n",
       "      <td>POLYGON ((330175.535 7396046.238, 330181.745 7...</td>\n",
       "      <td>636</td>\n",
       "    </tr>\n",
       "  </tbody>\n",
       "</table>\n",
       "</div>"
      ],
      "text/plain": [
       "   cd_subpref                 nm_subpref  pop_total  dom_total  consumo_di  \\\n",
       "3          07  VILA MARIA-VILA GUILHERME     276057     120169    38647980   \n",
       "23         13                   IPIRANGA     480163     213546    67222820   \n",
       "9          09                         SE     424112     258563    59375680   \n",
       "\n",
       "                                             geometry cd_identif  \n",
       "3   POLYGON ((336675.044 7401136.914, 336698.453 7...        693  \n",
       "23  POLYGON ((335287.875 7391129.763, 335279.12 73...        615  \n",
       "9   POLYGON ((330175.535 7396046.238, 330181.745 7...        636  "
      ]
     },
     "execution_count": 19,
     "metadata": {},
     "output_type": "execute_result"
    }
   ],
   "source": [
    "intersec_subpref = gdf_operations.intersec_unidades(\n",
    "    unidades_df, subpref, 'subpref')\n",
    "intersec_subpref.sample(3)"
   ]
  },
  {
   "cell_type": "code",
   "execution_count": 20,
   "id": "9fd0eb56-b208-4b79-8b64-989e1676a335",
   "metadata": {},
   "outputs": [
    {
     "name": "stderr",
     "output_type": "stream",
     "text": [
      "D:\\Documentos_Novo\\ADPPSP\\2024\\Saneamento básico\\PMSB\\hydra\\streamlit-pmsb\\utils\\gdf_operations.py:133: FutureWarning: You are adding a column named 'geometry' to a GeoDataFrame constructed without an active geometry column. Currently, this automatically sets the active geometry column to 'geometry' but in the future that will no longer happen. Instead, either provide geometry to the GeoDataFrame constructor (GeoDataFrame(... geometry=GeoSeries()) or use `set_geometry('geometry')` to explicitly set the active geometry column.\n",
      "  gdf_sorted[column] = gdf[column]\n"
     ]
    },
    {
     "data": {
      "text/html": [
       "<div>\n",
       "<style scoped>\n",
       "    .dataframe tbody tr th:only-of-type {\n",
       "        vertical-align: middle;\n",
       "    }\n",
       "\n",
       "    .dataframe tbody tr th {\n",
       "        vertical-align: top;\n",
       "    }\n",
       "\n",
       "    .dataframe thead th {\n",
       "        text-align: right;\n",
       "    }\n",
       "</style>\n",
       "<table border=\"1\" class=\"dataframe\">\n",
       "  <thead>\n",
       "    <tr style=\"text-align: right;\">\n",
       "      <th></th>\n",
       "      <th>cd_identif</th>\n",
       "      <th>nm_bacia_h</th>\n",
       "      <th>pop_total</th>\n",
       "      <th>dom_total</th>\n",
       "      <th>consumo_di</th>\n",
       "      <th>geometry</th>\n",
       "    </tr>\n",
       "  </thead>\n",
       "  <tbody>\n",
       "    <tr>\n",
       "      <th>200</th>\n",
       "      <td>688.0</td>\n",
       "      <td>Córrego Tiquatira - Leste</td>\n",
       "      <td>261809</td>\n",
       "      <td>110677</td>\n",
       "      <td>36653260</td>\n",
       "      <td>POLYGON ((347832.117 7400378.699, 347842.277 7...</td>\n",
       "    </tr>\n",
       "    <tr>\n",
       "      <th>63</th>\n",
       "      <td>560.0</td>\n",
       "      <td>Córrego Apucas</td>\n",
       "      <td>106614</td>\n",
       "      <td>41517</td>\n",
       "      <td>14925960</td>\n",
       "      <td>POLYGON ((332266.043 7379880.81, 332266.146 73...</td>\n",
       "    </tr>\n",
       "    <tr>\n",
       "      <th>70</th>\n",
       "      <td>567.0</td>\n",
       "      <td>Área de Contribuição Direta de Escoamento Difu...</td>\n",
       "      <td>26865</td>\n",
       "      <td>10953</td>\n",
       "      <td>3761100</td>\n",
       "      <td>POLYGON ((323817.709 7381071.618, 323810.422 7...</td>\n",
       "    </tr>\n",
       "  </tbody>\n",
       "</table>\n",
       "</div>"
      ],
      "text/plain": [
       "     cd_identif                                         nm_bacia_h  pop_total  \\\n",
       "200       688.0                          Córrego Tiquatira - Leste     261809   \n",
       "63        560.0                                     Córrego Apucas     106614   \n",
       "70        567.0  Área de Contribuição Direta de Escoamento Difu...      26865   \n",
       "\n",
       "     dom_total  consumo_di                                           geometry  \n",
       "200     110677    36653260  POLYGON ((347832.117 7400378.699, 347842.277 7...  \n",
       "63       41517    14925960  POLYGON ((332266.043 7379880.81, 332266.146 73...  \n",
       "70       10953     3761100  POLYGON ((323817.709 7381071.618, 323810.422 7...  "
      ]
     },
     "execution_count": 20,
     "metadata": {},
     "output_type": "execute_result"
    }
   ],
   "source": [
    "intersec_subbac = gdf_operations.intersec_unidades(\n",
    "    unidades_df, subbac, 'subbac')\n",
    "intersec_subbac.sample(3)"
   ]
  }
 ],
 "metadata": {
  "kernelspec": {
   "display_name": "Python 3 (ipykernel)",
   "language": "python",
   "name": "python3"
  },
  "language_info": {
   "codemirror_mode": {
    "name": "ipython",
    "version": 3
   },
   "file_extension": ".py",
   "mimetype": "text/x-python",
   "name": "python",
   "nbconvert_exporter": "python",
   "pygments_lexer": "ipython3",
   "version": "3.12.4"
  }
 },
 "nbformat": 4,
 "nbformat_minor": 5
}
